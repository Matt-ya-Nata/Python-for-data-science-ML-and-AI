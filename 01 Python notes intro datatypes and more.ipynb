{
 "cells": [
  {
   "cell_type": "markdown",
   "id": "bd82b763",
   "metadata": {},
   "source": [
    "# Introduction to Data types"
   ]
  },
  {
   "cell_type": "markdown",
   "id": "192efa82",
   "metadata": {},
   "source": [
    "### Basic numbers and arithmatic"
   ]
  },
  {
   "cell_type": "markdown",
   "id": "a827a0a2",
   "metadata": {},
   "source": [
    "Python has two number types:\n",
    "* Interger\n",
    "* Float\n",
    "\n",
    "for example 1 is an interger and 1.0 is a float"
   ]
  },
  {
   "cell_type": "code",
   "execution_count": 10,
   "id": "93cd3f32",
   "metadata": {},
   "outputs": [
    {
     "data": {
      "text/plain": [
       "1"
      ]
     },
     "execution_count": 10,
     "metadata": {},
     "output_type": "execute_result"
    }
   ],
   "source": [
    "1"
   ]
  },
  {
   "cell_type": "code",
   "execution_count": 11,
   "id": "6009963e",
   "metadata": {},
   "outputs": [
    {
     "data": {
      "text/plain": [
       "1.0"
      ]
     },
     "execution_count": 11,
     "metadata": {},
     "output_type": "execute_result"
    }
   ],
   "source": [
    "1.0"
   ]
  },
  {
   "cell_type": "markdown",
   "id": "fd91bf14",
   "metadata": {},
   "source": [
    "### Arithmatic"
   ]
  },
  {
   "cell_type": "markdown",
   "id": "928fb330",
   "metadata": {},
   "source": [
    "### Addition\n",
    "#### For addition we use a + sign for example 1+1"
   ]
  },
  {
   "cell_type": "code",
   "execution_count": 14,
   "id": "093d4e27",
   "metadata": {},
   "outputs": [
    {
     "data": {
      "text/plain": [
       "2"
      ]
     },
     "execution_count": 14,
     "metadata": {},
     "output_type": "execute_result"
    }
   ],
   "source": [
    "1+1"
   ]
  },
  {
   "cell_type": "markdown",
   "id": "0c112d8e",
   "metadata": {},
   "source": [
    "### Multiplication\n",
    "#### For multiplication we use a * sign for example 1*5"
   ]
  },
  {
   "cell_type": "code",
   "execution_count": 16,
   "id": "4afcd98b",
   "metadata": {},
   "outputs": [
    {
     "data": {
      "text/plain": [
       "5"
      ]
     },
     "execution_count": 16,
     "metadata": {},
     "output_type": "execute_result"
    }
   ],
   "source": [
    "1 * 5"
   ]
  },
  {
   "cell_type": "markdown",
   "id": "2ccfd780",
   "metadata": {},
   "source": [
    "### Division\n",
    "#### For Division we use a / sign for example 1/2"
   ]
  },
  {
   "cell_type": "code",
   "execution_count": 18,
   "id": "83389ba9",
   "metadata": {},
   "outputs": [
    {
     "data": {
      "text/plain": [
       "0.5"
      ]
     },
     "execution_count": 18,
     "metadata": {},
     "output_type": "execute_result"
    }
   ],
   "source": [
    "1 / 2"
   ]
  },
  {
   "cell_type": "markdown",
   "id": "0093bfb5",
   "metadata": {},
   "source": [
    "### Exponants\n",
    "#### For exponants we use two ** signs for example 2**4"
   ]
  },
  {
   "cell_type": "code",
   "execution_count": 21,
   "id": "3b8a0c40",
   "metadata": {},
   "outputs": [
    {
     "data": {
      "text/plain": [
       "16"
      ]
     },
     "execution_count": 21,
     "metadata": {},
     "output_type": "execute_result"
    }
   ],
   "source": [
    "2**4"
   ]
  },
  {
   "cell_type": "markdown",
   "id": "30abfec2",
   "metadata": {},
   "source": [
    "Always use brackets to order the operations for example write 2 + 5 * 1 + 4 as  (2+5)*(1+4)"
   ]
  },
  {
   "cell_type": "code",
   "execution_count": 22,
   "id": "b708e86d",
   "metadata": {},
   "outputs": [
    {
     "data": {
      "text/plain": [
       "11"
      ]
     },
     "execution_count": 22,
     "metadata": {},
     "output_type": "execute_result"
    }
   ],
   "source": [
    "2 + 5 * 1 + 4"
   ]
  },
  {
   "cell_type": "code",
   "execution_count": 23,
   "id": "33fffec3",
   "metadata": {},
   "outputs": [
    {
     "data": {
      "text/plain": [
       "35"
      ]
     },
     "execution_count": 23,
     "metadata": {},
     "output_type": "execute_result"
    }
   ],
   "source": [
    "(2 + 5) * (1 + 4)"
   ]
  },
  {
   "cell_type": "markdown",
   "id": "ea852f60",
   "metadata": {},
   "source": [
    "### Modulus\n",
    "#### For the modulus we use the % sign for example 4 % 2 it returns what remains after a division. "
   ]
  },
  {
   "cell_type": "code",
   "execution_count": 25,
   "id": "cf924941",
   "metadata": {},
   "outputs": [
    {
     "data": {
      "text/plain": [
       "0"
      ]
     },
     "execution_count": 25,
     "metadata": {},
     "output_type": "execute_result"
    }
   ],
   "source": [
    "6 % 2"
   ]
  },
  {
   "cell_type": "code",
   "execution_count": 26,
   "id": "5ff87a66",
   "metadata": {},
   "outputs": [
    {
     "data": {
      "text/plain": [
       "1"
      ]
     },
     "execution_count": 26,
     "metadata": {},
     "output_type": "execute_result"
    }
   ],
   "source": [
    "10 % 3"
   ]
  },
  {
   "cell_type": "markdown",
   "id": "a5f1529e",
   "metadata": {},
   "source": [
    "This is a great way to check if a number is even. If the reminder is zero then the number is even"
   ]
  },
  {
   "cell_type": "markdown",
   "id": "97c3b9c0",
   "metadata": {},
   "source": [
    "### Variable Assignment\n",
    "#### We use the assignment operator \" = \" to assign varibles\n",
    "For example matt = 2 "
   ]
  },
  {
   "cell_type": "code",
   "execution_count": 27,
   "id": "af142822",
   "metadata": {},
   "outputs": [],
   "source": [
    "matt = 2"
   ]
  },
  {
   "cell_type": "code",
   "execution_count": 28,
   "id": "6b04cb73",
   "metadata": {},
   "outputs": [
    {
     "data": {
      "text/plain": [
       "2"
      ]
     },
     "execution_count": 28,
     "metadata": {},
     "output_type": "execute_result"
    }
   ],
   "source": [
    "matt"
   ]
  },
  {
   "cell_type": "markdown",
   "id": "49687327",
   "metadata": {},
   "source": [
    "We can assign variables and use thier names to do arithmatic operations. An example is x = 10 and y = 2 . We can do arithmatic operations as x + y"
   ]
  },
  {
   "cell_type": "code",
   "execution_count": 32,
   "id": "1585075c",
   "metadata": {},
   "outputs": [],
   "source": [
    "x = 10\n",
    "y = 2"
   ]
  },
  {
   "cell_type": "code",
   "execution_count": 33,
   "id": "4a9d531f",
   "metadata": {},
   "outputs": [
    {
     "data": {
      "text/plain": [
       "12"
      ]
     },
     "execution_count": 33,
     "metadata": {},
     "output_type": "execute_result"
    }
   ],
   "source": [
    "x + y"
   ]
  },
  {
   "cell_type": "markdown",
   "id": "2db94caf",
   "metadata": {},
   "source": [
    "One can also reassign a varible. For example y = y+y"
   ]
  },
  {
   "cell_type": "code",
   "execution_count": 34,
   "id": "7dd13bd6",
   "metadata": {},
   "outputs": [],
   "source": [
    "y = y + y"
   ]
  },
  {
   "cell_type": "code",
   "execution_count": 35,
   "id": "eb67f3a1",
   "metadata": {},
   "outputs": [
    {
     "data": {
      "text/plain": [
       "4"
      ]
     },
     "execution_count": 35,
     "metadata": {},
     "output_type": "execute_result"
    }
   ],
   "source": [
    "y"
   ]
  },
  {
   "cell_type": "markdown",
   "id": "b71b395f",
   "metadata": {},
   "source": [
    "Variable rules\n",
    "* Don't start with numbers\n",
    "* dont start with special characters\n",
    "* Start lower case numbers\n",
    "* Use underscore to chain together multiple words\n"
   ]
  },
  {
   "cell_type": "markdown",
   "id": "ac6725e0",
   "metadata": {},
   "source": [
    "### Strings\n",
    "#### For strings we can either use double quotes \"\" or single quotes'' "
   ]
  },
  {
   "cell_type": "code",
   "execution_count": 38,
   "id": "336502c6",
   "metadata": {},
   "outputs": [
    {
     "data": {
      "text/plain": [
       "'My name is Matt'"
      ]
     },
     "execution_count": 38,
     "metadata": {},
     "output_type": "execute_result"
    }
   ],
   "source": [
    "\"My name is Matt\" "
   ]
  },
  {
   "cell_type": "code",
   "execution_count": 39,
   "id": "2b126754",
   "metadata": {},
   "outputs": [
    {
     "data": {
      "text/plain": [
       "'Nata is my surname'"
      ]
     },
     "execution_count": 39,
     "metadata": {},
     "output_type": "execute_result"
    }
   ],
   "source": [
    "'Nata is my surname'"
   ]
  },
  {
   "cell_type": "markdown",
   "id": "06502322",
   "metadata": {},
   "source": [
    "For scentences with an apostrophe (') we can wrap the scentence in double quotes.\n",
    "Example "
   ]
  },
  {
   "cell_type": "code",
   "execution_count": 40,
   "id": "ef039ede",
   "metadata": {},
   "outputs": [
    {
     "data": {
      "text/plain": [
       "\"My name is Matt and I don't like disrespectfulness\""
      ]
     },
     "execution_count": 40,
     "metadata": {},
     "output_type": "execute_result"
    }
   ],
   "source": [
    "\"My name is Matt and I don't like disrespectfulness\""
   ]
  },
  {
   "cell_type": "markdown",
   "id": "1f4de995",
   "metadata": {},
   "source": [
    "And if you need to use the double quotes in a scentence you can wrap it in sngle quotes as well."
   ]
  },
  {
   "cell_type": "markdown",
   "id": "48524d92",
   "metadata": {},
   "source": [
    "### Printing Strings"
   ]
  },
  {
   "cell_type": "code",
   "execution_count": 41,
   "id": "d7a33237",
   "metadata": {},
   "outputs": [],
   "source": [
    "m = 'Hello World'"
   ]
  },
  {
   "cell_type": "code",
   "execution_count": 42,
   "id": "9fed87c4",
   "metadata": {},
   "outputs": [
    {
     "data": {
      "text/plain": [
       "'Hello World'"
      ]
     },
     "execution_count": 42,
     "metadata": {},
     "output_type": "execute_result"
    }
   ],
   "source": [
    "m"
   ]
  },
  {
   "cell_type": "code",
   "execution_count": 44,
   "id": "be7675fa",
   "metadata": {},
   "outputs": [
    {
     "name": "stdout",
     "output_type": "stream",
     "text": [
      "Hello World\n"
     ]
    }
   ],
   "source": [
    "print(m)"
   ]
  },
  {
   "cell_type": "markdown",
   "id": "8af7e7fc",
   "metadata": {},
   "source": [
    "As seen in the example above Using the print(m) removes the out and single quotes."
   ]
  },
  {
   "cell_type": "markdown",
   "id": "a09d02c0",
   "metadata": {},
   "source": [
    "### Formationg the print statements"
   ]
  },
  {
   "cell_type": "code",
   "execution_count": 47,
   "id": "b78261ec",
   "metadata": {},
   "outputs": [],
   "source": [
    "name = \"Jane\"\n",
    "age = 18"
   ]
  },
  {
   "cell_type": "code",
   "execution_count": 49,
   "id": "853e1d7a",
   "metadata": {},
   "outputs": [
    {
     "name": "stdout",
     "output_type": "stream",
     "text": [
      "My name is Jane and I am 18 years old\n"
     ]
    }
   ],
   "source": [
    "print(\"My name is {} and I am {} years old\".format(name,age))"
   ]
  },
  {
   "cell_type": "markdown",
   "id": "1f3e8ff5",
   "metadata": {},
   "source": [
    "Python will read the curly brackets and the \"format\" then insert what ever is in the brackets in the same order you put it in"
   ]
  },
  {
   "cell_type": "code",
   "execution_count": 50,
   "id": "9639d308",
   "metadata": {},
   "outputs": [
    {
     "name": "stdout",
     "output_type": "stream",
     "text": [
      "My name is Jane and I am 18 years old\n"
     ]
    }
   ],
   "source": [
    "print(\"My name is {one} and I am {two} years old\".format(one = name,two = age))"
   ]
  },
  {
   "cell_type": "markdown",
   "id": "f3651b04",
   "metadata": {},
   "source": [
    "This is another way of using print formatting, this good because you dont have to worry about the formatting being in the same order and you can put in your variables more then once."
   ]
  },
  {
   "cell_type": "markdown",
   "id": "b5883307",
   "metadata": {},
   "source": [
    "### Indexing Strings"
   ]
  },
  {
   "cell_type": "markdown",
   "id": "362e4d8d",
   "metadata": {},
   "source": [
    "indexing starts at zero and we use the [] for example if we have a variable d = cake to get just the first letter we type/print(d[0])"
   ]
  },
  {
   "cell_type": "code",
   "execution_count": 56,
   "id": "a8027971",
   "metadata": {},
   "outputs": [],
   "source": [
    "d = 'cake'"
   ]
  },
  {
   "cell_type": "code",
   "execution_count": 58,
   "id": "ffd23de5",
   "metadata": {},
   "outputs": [
    {
     "data": {
      "text/plain": [
       "'e'"
      ]
     },
     "execution_count": 58,
     "metadata": {},
     "output_type": "execute_result"
    }
   ],
   "source": [
    "d[3]"
   ]
  },
  {
   "cell_type": "markdown",
   "id": "240a1e62",
   "metadata": {},
   "source": [
    "we can also use slice syntax which helps us get more then one character from a string. For this we use [:] for example if we have a varible n = nakatana if we only want the first 3 characters we use n[:3] to grab all characters we use n[0:].To get specific characters we use"
   ]
  },
  {
   "cell_type": "code",
   "execution_count": 60,
   "id": "157b1533",
   "metadata": {},
   "outputs": [],
   "source": [
    "n = \"nakatana\""
   ]
  },
  {
   "cell_type": "code",
   "execution_count": 61,
   "id": "d8217cd5",
   "metadata": {},
   "outputs": [
    {
     "data": {
      "text/plain": [
       "'nak'"
      ]
     },
     "execution_count": 61,
     "metadata": {},
     "output_type": "execute_result"
    }
   ],
   "source": [
    "n[:3]"
   ]
  },
  {
   "cell_type": "code",
   "execution_count": 62,
   "id": "a5f2b1a4",
   "metadata": {},
   "outputs": [
    {
     "data": {
      "text/plain": [
       "'nakatana'"
      ]
     },
     "execution_count": 62,
     "metadata": {},
     "output_type": "execute_result"
    }
   ],
   "source": [
    "n[0:]"
   ]
  },
  {
   "cell_type": "code",
   "execution_count": 63,
   "id": "b923e414",
   "metadata": {},
   "outputs": [
    {
     "data": {
      "text/plain": [
       "'tan'"
      ]
     },
     "execution_count": 63,
     "metadata": {},
     "output_type": "execute_result"
    }
   ],
   "source": [
    "n[4:7]"
   ]
  },
  {
   "cell_type": "code",
   "execution_count": 64,
   "id": "12baca1f",
   "metadata": {},
   "outputs": [
    {
     "data": {
      "text/plain": [
       "'kat'"
      ]
     },
     "execution_count": 64,
     "metadata": {},
     "output_type": "execute_result"
    }
   ],
   "source": [
    "n[2:5]"
   ]
  },
  {
   "cell_type": "markdown",
   "id": "56f31555",
   "metadata": {},
   "source": [
    "### Lists\n",
    "#### These are sequences of elements in a set of square brackets separated by commas.\n",
    "example [1,2,3] or [a,b,c] meaning it can take in any type of data type"
   ]
  },
  {
   "cell_type": "code",
   "execution_count": 65,
   "id": "97b3fe07",
   "metadata": {},
   "outputs": [
    {
     "data": {
      "text/plain": [
       "[1, 2, 3]"
      ]
     },
     "execution_count": 65,
     "metadata": {},
     "output_type": "execute_result"
    }
   ],
   "source": [
    "[1,2,3]"
   ]
  },
  {
   "cell_type": "code",
   "execution_count": 67,
   "id": "3aee6a75",
   "metadata": {},
   "outputs": [
    {
     "data": {
      "text/plain": [
       "['a', 'b', 'c']"
      ]
     },
     "execution_count": 67,
     "metadata": {},
     "output_type": "execute_result"
    }
   ],
   "source": [
    "[\"a\",\"b\",\"c\"]"
   ]
  },
  {
   "cell_type": "code",
   "execution_count": 68,
   "id": "77c49e5c",
   "metadata": {},
   "outputs": [],
   "source": [
    "l_list = [\"a\",\"b\",\"c\"]"
   ]
  },
  {
   "cell_type": "markdown",
   "id": "cdae3853",
   "metadata": {},
   "source": [
    "## Adding an element to your list use the append methond.\n",
    "for example for the list above to add the element d to it all we need to do is run the l_list.append(\"d\") then when we print the list the element will be added."
   ]
  },
  {
   "cell_type": "code",
   "execution_count": 70,
   "id": "4d5432e8",
   "metadata": {},
   "outputs": [],
   "source": [
    "l_list.append(\"d\")"
   ]
  },
  {
   "cell_type": "code",
   "execution_count": 71,
   "id": "18df94b0",
   "metadata": {},
   "outputs": [
    {
     "data": {
      "text/plain": [
       "['a', 'b', 'c', 'd']"
      ]
     },
     "execution_count": 71,
     "metadata": {},
     "output_type": "execute_result"
    }
   ],
   "source": [
    "l_list"
   ]
  },
  {
   "cell_type": "markdown",
   "id": "b375203f",
   "metadata": {},
   "source": [
    "## To select elements in a list we use the same method we used with strings\n",
    "for example l_list[0] will grab the first element.\n",
    "And l_list[0:] will grab all elements\n",
    "while l_list[1:3] will grab the band c in the list."
   ]
  },
  {
   "cell_type": "code",
   "execution_count": 73,
   "id": "e1dd4b6d",
   "metadata": {},
   "outputs": [
    {
     "data": {
      "text/plain": [
       "'a'"
      ]
     },
     "execution_count": 73,
     "metadata": {},
     "output_type": "execute_result"
    }
   ],
   "source": [
    "l_list[0]"
   ]
  },
  {
   "cell_type": "code",
   "execution_count": 74,
   "id": "d8e218a2",
   "metadata": {},
   "outputs": [
    {
     "data": {
      "text/plain": [
       "['a', 'b', 'c', 'd']"
      ]
     },
     "execution_count": 74,
     "metadata": {},
     "output_type": "execute_result"
    }
   ],
   "source": [
    "l_list[0:]"
   ]
  },
  {
   "cell_type": "code",
   "execution_count": 75,
   "id": "2bdd21f5",
   "metadata": {},
   "outputs": [
    {
     "data": {
      "text/plain": [
       "['b', 'c']"
      ]
     },
     "execution_count": 75,
     "metadata": {},
     "output_type": "execute_result"
    }
   ],
   "source": [
    "l_list[1:3]"
   ]
  },
  {
   "cell_type": "markdown",
   "id": "f4656f6e",
   "metadata": {},
   "source": [
    "*List elements can also be changed by indexing the element we wish to change. \n",
    "for example l_list[0]= matt this will change the first elemet from \"a\" to \"matt\""
   ]
  },
  {
   "cell_type": "code",
   "execution_count": 81,
   "id": "4f6d20f9",
   "metadata": {},
   "outputs": [],
   "source": [
    "l_list[0]= \"Matt\""
   ]
  },
  {
   "cell_type": "code",
   "execution_count": 82,
   "id": "d4736c30",
   "metadata": {},
   "outputs": [
    {
     "data": {
      "text/plain": [
       "['Matt', 'b', 'c', 'd']"
      ]
     },
     "execution_count": 82,
     "metadata": {},
     "output_type": "execute_result"
    }
   ],
   "source": [
    "l_list"
   ]
  },
  {
   "cell_type": "markdown",
   "id": "397fd716",
   "metadata": {},
   "source": [
    "## Nesting lists inside each other"
   ]
  },
  {
   "cell_type": "code",
   "execution_count": 84,
   "id": "fd7ed9c3",
   "metadata": {},
   "outputs": [],
   "source": [
    "nest = [1,2,[3,4]]"
   ]
  },
  {
   "cell_type": "code",
   "execution_count": 85,
   "id": "13afcfb6",
   "metadata": {},
   "outputs": [
    {
     "data": {
      "text/plain": [
       "[1, 2, [3, 4]]"
      ]
     },
     "execution_count": 85,
     "metadata": {},
     "output_type": "execute_result"
    }
   ],
   "source": [
    "nest"
   ]
  },
  {
   "cell_type": "code",
   "execution_count": 86,
   "id": "04fd9e7b",
   "metadata": {},
   "outputs": [
    {
     "data": {
      "text/plain": [
       "[3, 4]"
      ]
     },
     "execution_count": 86,
     "metadata": {},
     "output_type": "execute_result"
    }
   ],
   "source": [
    "nest[2]"
   ]
  },
  {
   "cell_type": "code",
   "execution_count": 87,
   "id": "c86ee297",
   "metadata": {},
   "outputs": [
    {
     "data": {
      "text/plain": [
       "4"
      ]
     },
     "execution_count": 87,
     "metadata": {},
     "output_type": "execute_result"
    }
   ],
   "source": [
    "nest[2][1]"
   ]
  },
  {
   "cell_type": "code",
   "execution_count": 89,
   "id": "cbd69416",
   "metadata": {},
   "outputs": [],
   "source": [
    "nest = [1,2,3,[4,5,[\"Matt\"]]]"
   ]
  },
  {
   "cell_type": "code",
   "execution_count": 92,
   "id": "b79b81fa",
   "metadata": {},
   "outputs": [
    {
     "data": {
      "text/plain": [
       "'Matt'"
      ]
     },
     "execution_count": 92,
     "metadata": {},
     "output_type": "execute_result"
    }
   ],
   "source": [
    "nest[3][2][0]"
   ]
  },
  {
   "cell_type": "code",
   "execution_count": 93,
   "id": "0d22f07f",
   "metadata": {},
   "outputs": [
    {
     "name": "stdout",
     "output_type": "stream",
     "text": [
      "Matt\n"
     ]
    }
   ],
   "source": [
    "print(nest[3][2][0])"
   ]
  },
  {
   "cell_type": "markdown",
   "id": "684cd178",
   "metadata": {},
   "source": [
    "\n",
    "## What I learned\n",
    "\n",
    "* basic arithmetic\n",
    "* basic variable assignment\n",
    "* Strings \n",
    "* print formatting\n",
    "* Grabing things from an index\n",
    "* Slice notation\n",
    "* Lists"
   ]
  },
  {
   "cell_type": "code",
   "execution_count": null,
   "id": "fba5e6dd",
   "metadata": {},
   "outputs": [],
   "source": []
  }
 ],
 "metadata": {
  "kernelspec": {
   "display_name": "Python 3",
   "language": "python",
   "name": "python3"
  },
  "language_info": {
   "codemirror_mode": {
    "name": "ipython",
    "version": 3
   },
   "file_extension": ".py",
   "mimetype": "text/x-python",
   "name": "python",
   "nbconvert_exporter": "python",
   "pygments_lexer": "ipython3",
   "version": "3.8.8"
  }
 },
 "nbformat": 4,
 "nbformat_minor": 5
}
