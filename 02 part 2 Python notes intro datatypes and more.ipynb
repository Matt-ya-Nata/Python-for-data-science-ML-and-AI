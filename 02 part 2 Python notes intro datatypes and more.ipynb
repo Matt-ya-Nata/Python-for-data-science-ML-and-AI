{
 "cells": [
  {
   "cell_type": "markdown",
   "id": "fcc64353",
   "metadata": {},
   "source": [
    "## Creating Dictionaries"
   ]
  },
  {
   "cell_type": "code",
   "execution_count": 2,
   "id": "98f0192f",
   "metadata": {},
   "outputs": [],
   "source": [
    " d = {'key1':'value','key2':123}"
   ]
  },
  {
   "cell_type": "markdown",
   "id": "0fc0c6bf",
   "metadata": {},
   "source": [
    "dictionaries hold elements through keys and actual values...examples below"
   ]
  },
  {
   "cell_type": "code",
   "execution_count": 3,
   "id": "5c8c9e96",
   "metadata": {},
   "outputs": [
    {
     "data": {
      "text/plain": [
       "'value'"
      ]
     },
     "execution_count": 3,
     "metadata": {},
     "output_type": "execute_result"
    }
   ],
   "source": [
    "d[\"key1\"]"
   ]
  },
  {
   "cell_type": "code",
   "execution_count": 5,
   "id": "a1b99206",
   "metadata": {},
   "outputs": [
    {
     "data": {
      "text/plain": [
       "123"
      ]
     },
     "execution_count": 5,
     "metadata": {},
     "output_type": "execute_result"
    }
   ],
   "source": [
    "d['key2']"
   ]
  },
  {
   "cell_type": "markdown",
   "id": "ef720583",
   "metadata": {},
   "source": [
    "dictionaries can take in any items as thier values"
   ]
  },
  {
   "cell_type": "code",
   "execution_count": 6,
   "id": "eee16bec",
   "metadata": {},
   "outputs": [],
   "source": []
  },
  {
   "cell_type": "code",
   "execution_count": 12,
   "id": "764e8056",
   "metadata": {},
   "outputs": [],
   "source": [
    "d = {'k1':[1,2,3]}"
   ]
  },
  {
   "cell_type": "code",
   "execution_count": 15,
   "id": "9eec2600",
   "metadata": {},
   "outputs": [],
   "source": [
    "my_list = d[\"k1\"]"
   ]
  },
  {
   "cell_type": "markdown",
   "id": "1a1afb0c",
   "metadata": {},
   "source": [
    "With a list in a dictionary we can do indexing example below"
   ]
  },
  {
   "cell_type": "code",
   "execution_count": 16,
   "id": "3338b221",
   "metadata": {},
   "outputs": [
    {
     "data": {
      "text/plain": [
       "3"
      ]
     },
     "execution_count": 16,
     "metadata": {},
     "output_type": "execute_result"
    }
   ],
   "source": [
    "d[\"k1\"][2]"
   ]
  },
  {
   "cell_type": "code",
   "execution_count": 17,
   "id": "29702359",
   "metadata": {},
   "outputs": [
    {
     "data": {
      "text/plain": [
       "1"
      ]
     },
     "execution_count": 17,
     "metadata": {},
     "output_type": "execute_result"
    }
   ],
   "source": [
    "my_list[0]"
   ]
  },
  {
   "cell_type": "code",
   "execution_count": 18,
   "id": "e61c1ac1",
   "metadata": {},
   "outputs": [
    {
     "data": {
      "text/plain": [
       "1"
      ]
     },
     "execution_count": 18,
     "metadata": {},
     "output_type": "execute_result"
    }
   ],
   "source": [
    "d[\"k1\"][0]"
   ]
  },
  {
   "cell_type": "markdown",
   "id": "e487f786",
   "metadata": {},
   "source": [
    "Nesting a dictionary within another dictionary."
   ]
  },
  {
   "cell_type": "code",
   "execution_count": 21,
   "id": "2ef4e33d",
   "metadata": {},
   "outputs": [],
   "source": [
    "d = {\"key1\":{\"innerkey\":[1,2,3]}}"
   ]
  },
  {
   "cell_type": "markdown",
   "id": "3ab221b2",
   "metadata": {},
   "source": [
    "## Booleans in Python\n",
    "these are either true or false"
   ]
  },
  {
   "cell_type": "code",
   "execution_count": 23,
   "id": "a1f17ee1",
   "metadata": {},
   "outputs": [
    {
     "data": {
      "text/plain": [
       "True"
      ]
     },
     "execution_count": 23,
     "metadata": {},
     "output_type": "execute_result"
    }
   ],
   "source": [
    "True"
   ]
  },
  {
   "cell_type": "code",
   "execution_count": 24,
   "id": "31e137a9",
   "metadata": {},
   "outputs": [
    {
     "data": {
      "text/plain": [
       "False"
      ]
     },
     "execution_count": 24,
     "metadata": {},
     "output_type": "execute_result"
    }
   ],
   "source": [
    "False"
   ]
  },
  {
   "cell_type": "code",
   "execution_count": 25,
   "id": "aff94673",
   "metadata": {},
   "outputs": [],
   "source": [
    "my_list = [1,2,3]"
   ]
  },
  {
   "cell_type": "code",
   "execution_count": 26,
   "id": "2a62f8f2",
   "metadata": {},
   "outputs": [
    {
     "data": {
      "text/plain": [
       "1"
      ]
     },
     "execution_count": 26,
     "metadata": {},
     "output_type": "execute_result"
    }
   ],
   "source": [
    "my_list[0]"
   ]
  },
  {
   "cell_type": "code",
   "execution_count": 27,
   "id": "c3aa4ae8",
   "metadata": {},
   "outputs": [
    {
     "data": {
      "text/plain": [
       "2"
      ]
     },
     "execution_count": 27,
     "metadata": {},
     "output_type": "execute_result"
    }
   ],
   "source": [
    "my_list[1]"
   ]
  },
  {
   "cell_type": "markdown",
   "id": "739e04bc",
   "metadata": {},
   "source": [
    "## Tuple\n",
    "use () instead of []\n",
    "\n",
    "Tuples VS Lists\n",
    "\n",
    "Tuples are immutable and lists are mutable\n",
    "\n",
    "we use tuples to make sure a user cant change the items in the sequence of items."
   ]
  },
  {
   "cell_type": "markdown",
   "id": "6ab4e3bd",
   "metadata": {},
   "source": [
    "## sets in python\n",
    "a collection of unique elemets"
   ]
  },
  {
   "cell_type": "code",
   "execution_count": 29,
   "id": "ba086d06",
   "metadata": {},
   "outputs": [
    {
     "data": {
      "text/plain": [
       "{1, 2, 3}"
      ]
     },
     "execution_count": 29,
     "metadata": {},
     "output_type": "execute_result"
    }
   ],
   "source": [
    "{1,2,3,}"
   ]
  },
  {
   "cell_type": "code",
   "execution_count": 30,
   "id": "aedbfdf6",
   "metadata": {},
   "outputs": [
    {
     "data": {
      "text/plain": [
       "{1, 2, 3}"
      ]
     },
     "execution_count": 30,
     "metadata": {},
     "output_type": "execute_result"
    }
   ],
   "source": [
    "{1,1,1,1,2,2,2,3,3,3,}"
   ]
  },
  {
   "cell_type": "markdown",
   "id": "7b33c6c9",
   "metadata": {},
   "source": [
    "We can use the set function to reveal a set"
   ]
  },
  {
   "cell_type": "code",
   "execution_count": 31,
   "id": "ce44950c",
   "metadata": {},
   "outputs": [
    {
     "data": {
      "text/plain": [
       "{1, 2, 3}"
      ]
     },
     "execution_count": 31,
     "metadata": {},
     "output_type": "execute_result"
    }
   ],
   "source": [
    "set({1,1,1,1,2,2,2,3,3,3,})"
   ]
  },
  {
   "cell_type": "code",
   "execution_count": 32,
   "id": "746a80c8",
   "metadata": {},
   "outputs": [
    {
     "data": {
      "text/plain": [
       "{1, 2, 3, 4, 5, 7}"
      ]
     },
     "execution_count": 32,
     "metadata": {},
     "output_type": "execute_result"
    }
   ],
   "source": [
    "set({1,1,2,4,3,2,5,7,1,1,2,2,2,3,3,3,})"
   ]
  },
  {
   "cell_type": "markdown",
   "id": "c2b7f258",
   "metadata": {},
   "source": [
    "Adding items to a set"
   ]
  },
  {
   "cell_type": "code",
   "execution_count": 33,
   "id": "4f1b0cf5",
   "metadata": {},
   "outputs": [],
   "source": [
    "s = {1,2,3}"
   ]
  },
  {
   "cell_type": "code",
   "execution_count": 34,
   "id": "cdb5fba4",
   "metadata": {},
   "outputs": [],
   "source": [
    "s.add(5)"
   ]
  },
  {
   "cell_type": "code",
   "execution_count": 35,
   "id": "d1c2cb2a",
   "metadata": {},
   "outputs": [
    {
     "data": {
      "text/plain": [
       "{1, 2, 3, 5}"
      ]
     },
     "execution_count": 35,
     "metadata": {},
     "output_type": "execute_result"
    }
   ],
   "source": [
    "s"
   ]
  },
  {
   "cell_type": "code",
   "execution_count": 36,
   "id": "58ca6c37",
   "metadata": {},
   "outputs": [],
   "source": [
    "s.add(5)"
   ]
  },
  {
   "cell_type": "code",
   "execution_count": 37,
   "id": "bbbfda0c",
   "metadata": {},
   "outputs": [
    {
     "data": {
      "text/plain": [
       "{1, 2, 3, 5}"
      ]
     },
     "execution_count": 37,
     "metadata": {},
     "output_type": "execute_result"
    }
   ],
   "source": [
    "s\n"
   ]
  },
  {
   "cell_type": "markdown",
   "id": "1c0c0d82",
   "metadata": {},
   "source": [
    "## comparison oprators \n",
    "Allows you to compare two elements to each other\n",
    "example: <,>,="
   ]
  },
  {
   "cell_type": "code",
   "execution_count": 38,
   "id": "4f7c0be9",
   "metadata": {},
   "outputs": [
    {
     "data": {
      "text/plain": [
       "False"
      ]
     },
     "execution_count": 38,
     "metadata": {},
     "output_type": "execute_result"
    }
   ],
   "source": [
    "1>2"
   ]
  },
  {
   "cell_type": "code",
   "execution_count": 39,
   "id": "1d7b56dd",
   "metadata": {},
   "outputs": [
    {
     "data": {
      "text/plain": [
       "True"
      ]
     },
     "execution_count": 39,
     "metadata": {},
     "output_type": "execute_result"
    }
   ],
   "source": [
    "1<2"
   ]
  },
  {
   "cell_type": "code",
   "execution_count": 40,
   "id": "8d0bb150",
   "metadata": {},
   "outputs": [
    {
     "data": {
      "text/plain": [
       "True"
      ]
     },
     "execution_count": 40,
     "metadata": {},
     "output_type": "execute_result"
    }
   ],
   "source": [
    "1<=2"
   ]
  },
  {
   "cell_type": "code",
   "execution_count": 41,
   "id": "9ba1ee80",
   "metadata": {},
   "outputs": [
    {
     "data": {
      "text/plain": [
       "True"
      ]
     },
     "execution_count": 41,
     "metadata": {},
     "output_type": "execute_result"
    }
   ],
   "source": [
    "1<=2"
   ]
  },
  {
   "cell_type": "code",
   "execution_count": 42,
   "id": "0710131c",
   "metadata": {},
   "outputs": [
    {
     "data": {
      "text/plain": [
       "True"
      ]
     },
     "execution_count": 42,
     "metadata": {},
     "output_type": "execute_result"
    }
   ],
   "source": [
    "1==1"
   ]
  },
  {
   "cell_type": "code",
   "execution_count": 43,
   "id": "5bf6560c",
   "metadata": {},
   "outputs": [
    {
     "data": {
      "text/plain": [
       "False"
      ]
     },
     "execution_count": 43,
     "metadata": {},
     "output_type": "execute_result"
    }
   ],
   "source": [
    "1==2"
   ]
  },
  {
   "cell_type": "code",
   "execution_count": 44,
   "id": "2674dd9d",
   "metadata": {},
   "outputs": [
    {
     "data": {
      "text/plain": [
       "True"
      ]
     },
     "execution_count": 44,
     "metadata": {},
     "output_type": "execute_result"
    }
   ],
   "source": [
    "1!=3"
   ]
  },
  {
   "cell_type": "code",
   "execution_count": 45,
   "id": "1113eeae",
   "metadata": {},
   "outputs": [
    {
     "data": {
      "text/plain": [
       "False"
      ]
     },
     "execution_count": 45,
     "metadata": {},
     "output_type": "execute_result"
    }
   ],
   "source": [
    "3!=3"
   ]
  },
  {
   "cell_type": "code",
   "execution_count": 48,
   "id": "1c825166",
   "metadata": {},
   "outputs": [
    {
     "data": {
      "text/plain": [
       "True"
      ]
     },
     "execution_count": 48,
     "metadata": {},
     "output_type": "execute_result"
    }
   ],
   "source": [
    "(1<2) and (1<2)"
   ]
  },
  {
   "cell_type": "code",
   "execution_count": 49,
   "id": "2ae087e9",
   "metadata": {},
   "outputs": [
    {
     "data": {
      "text/plain": [
       "False"
      ]
     },
     "execution_count": 49,
     "metadata": {},
     "output_type": "execute_result"
    }
   ],
   "source": [
    "(1<2) and (1>2)"
   ]
  },
  {
   "cell_type": "markdown",
   "id": "ff5be7e7",
   "metadata": {},
   "source": [
    "## If ,elif ,else "
   ]
  },
  {
   "cell_type": "code",
   "execution_count": 51,
   "id": "a2596aff",
   "metadata": {},
   "outputs": [
    {
     "name": "stdout",
     "output_type": "stream",
     "text": [
      "Matt\n"
     ]
    }
   ],
   "source": [
    "if 1<2:\n",
    "    print(\"Matt\")"
   ]
  },
  {
   "cell_type": "code",
   "execution_count": 55,
   "id": "7b15c4a6",
   "metadata": {},
   "outputs": [
    {
     "name": "stdout",
     "output_type": "stream",
     "text": [
      "last\n"
     ]
    }
   ],
   "source": [
    "if 1==2:\n",
    "    print(\"first\")\n",
    "else:\n",
    "    print(\"last\")"
   ]
  },
  {
   "cell_type": "code",
   "execution_count": 58,
   "id": "77bda601",
   "metadata": {},
   "outputs": [
    {
     "name": "stdout",
     "output_type": "stream",
     "text": [
      "Middle\n"
     ]
    }
   ],
   "source": [
    "if 1==2:\n",
    "    print(\"first\")\n",
    "elif 3 == 3:\n",
    "    print(\"Middle\")\n",
    "else:\n",
    "    print(\"last\")"
   ]
  },
  {
   "cell_type": "markdown",
   "id": "70bb8e09",
   "metadata": {},
   "source": [
    "## What I have learned\n",
    "\n",
    "* Dictionaries\n",
    "* nested dictionaries\n",
    "* Lists\n",
    "* tuple\n",
    "* Sets \n",
    "* Comparison Operators"
   ]
  },
  {
   "cell_type": "code",
   "execution_count": null,
   "id": "e7ae36b3",
   "metadata": {},
   "outputs": [],
   "source": []
  }
 ],
 "metadata": {
  "kernelspec": {
   "display_name": "Python 3",
   "language": "python",
   "name": "python3"
  },
  "language_info": {
   "codemirror_mode": {
    "name": "ipython",
    "version": 3
   },
   "file_extension": ".py",
   "mimetype": "text/x-python",
   "name": "python",
   "nbconvert_exporter": "python",
   "pygments_lexer": "ipython3",
   "version": "3.8.8"
  }
 },
 "nbformat": 4,
 "nbformat_minor": 5
}
